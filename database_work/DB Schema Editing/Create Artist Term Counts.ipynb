{
 "cells": [
  {
   "cell_type": "code",
   "execution_count": 1,
   "metadata": {},
   "outputs": [],
   "source": [
    "import pandas as pd\n",
    "import numpy as np\n",
    "from sqlalchemy import create_engine\n"
   ]
  },
  {
   "cell_type": "code",
   "execution_count": 2,
   "metadata": {},
   "outputs": [
    {
     "name": "stderr",
     "output_type": "stream",
     "text": [
      "/home/munozaaron/.local/lib/python3.5/site-packages/psycopg2/__init__.py:144: UserWarning: The psycopg2 wheel package will be renamed from release 2.8; in order to keep installing from binary please use \"pip install psycopg2-binary\" instead. For details see: <http://initd.org/psycopg/docs/install.html#binary-install-from-pypi>.\n",
      "  \"\"\")\n"
     ]
    }
   ],
   "source": [
    "conn = create_engine('postgresql://****@localhost:5432/mcnulty_songs').raw_connection()\n",
    "cursor = conn.cursor()"
   ]
  },
  {
   "cell_type": "code",
   "execution_count": 5,
   "metadata": {},
   "outputs": [],
   "source": [
    "def find_artist(artist_name):\n",
    "    return pd.read_sql_query('''SELECT * FROM artist WHERE artist_name = '{}'; '''.format(artist_name),conn)"
   ]
  },
  {
   "cell_type": "code",
   "execution_count": 25,
   "metadata": {},
   "outputs": [
    {
     "data": {
      "text/plain": [
       "'ARQOBT71187FB4CCCA'"
      ]
     },
     "execution_count": 25,
     "metadata": {},
     "output_type": "execute_result"
    }
   ],
   "source": [
    "artist = find_artist('beirut') #\n",
    "artist.iloc[0].artist_id"
   ]
  },
  {
   "cell_type": "code",
   "execution_count": 26,
   "metadata": {},
   "outputs": [],
   "source": [
    "results = pd.read_sql_query('''SELECT term FROM artist_term WHERE artist_id = '{}'; '''.format(artist.iloc[0].artist_id),conn)\n"
   ]
  },
  {
   "cell_type": "code",
   "execution_count": 27,
   "metadata": {},
   "outputs": [
    {
     "data": {
      "text/plain": [
       "0     electronic                                    ...\n",
       "1     alternative folk                              ...\n",
       "2     pop                                           ...\n",
       "3     melodic                                       ...\n",
       "4     trumpet                                       ...\n",
       "5     beautiful                                     ...\n",
       "6     acoustic                                      ...\n",
       "7     violin                                        ...\n",
       "8     country                                       ...\n",
       "9     folk                                          ...\n",
       "10    haunting                                      ...\n",
       "11    instrumental                                  ...\n",
       "12    psychedelic                                   ...\n",
       "13    indie pop                                     ...\n",
       "14    gypsy                                         ...\n",
       "15    strings                                       ...\n",
       "16    indie                                         ...\n",
       "17    world music                                   ...\n",
       "18    rock                                          ...\n",
       "19    indie folk                                    ...\n",
       "20    brass                                         ...\n",
       "21    guitar                                        ...\n",
       "22    mariachi                                      ...\n",
       "23    jazz                                          ...\n",
       "24    accordion                                     ...\n",
       "25    piano                                         ...\n",
       "26    soundtrack                                    ...\n",
       "27    melancholia                                   ...\n",
       "28    soul                                          ...\n",
       "29    indie rock                                    ...\n",
       "Name: term, dtype: object"
      ]
     },
     "execution_count": 27,
     "metadata": {},
     "output_type": "execute_result"
    }
   ],
   "source": [
    "results['term']"
   ]
  },
  {
   "cell_type": "code",
   "execution_count": 28,
   "metadata": {},
   "outputs": [],
   "source": [
    "tracks = pd.read_sql_query('''SELECT * FROM track_metadata WHERE artist_id = '{}'; '''.format(artist.iloc[0].artist_id),conn)\n"
   ]
  },
  {
   "cell_type": "code",
   "execution_count": null,
   "metadata": {},
   "outputs": [],
   "source": [
    "tracks['title'] = tracks['title'].str.strip()\n",
    "\n",
    "tracks"
   ]
  },
  {
   "cell_type": "code",
   "execution_count": 30,
   "metadata": {},
   "outputs": [],
   "source": [
    "conn = create_engine('postgresql://********@localhost:5432/mcnulty_songs').raw_connection()\n",
    "cursor = conn.cursor()"
   ]
  },
  {
   "cell_type": "code",
   "execution_count": null,
   "metadata": {
    "scrolled": true
   },
   "outputs": [],
   "source": [
    "cursor.execute('''UPDATE artist_term SET term_count = grouped_counts.my_counts\n",
    "                                        FROM (SELECT term, count(*) as my_counts FROM artist_term\n",
    "                                        GROUP BY term) as grouped_counts\n",
    "                                    where artist_term.term = grouped_counts.term\n",
    "                                        ;''')\n",
    "\n"
   ]
  },
  {
   "cell_type": "code",
   "execution_count": 9,
   "metadata": {},
   "outputs": [],
   "source": [
    "conn.commit()"
   ]
  }
 ],
 "metadata": {
  "kernelspec": {
   "display_name": "Python 3",
   "language": "python",
   "name": "python3"
  },
  "language_info": {
   "codemirror_mode": {
    "name": "ipython",
    "version": 3
   },
   "file_extension": ".py",
   "mimetype": "text/x-python",
   "name": "python",
   "nbconvert_exporter": "python",
   "pygments_lexer": "ipython3",
   "version": "3.6.4"
  }
 },
 "nbformat": 4,
 "nbformat_minor": 2
}
