{
 "cells": [
  {
   "cell_type": "code",
   "execution_count": 1,
   "metadata": {},
   "outputs": [],
   "source": [
    "import pandas as pd\n",
    "import numpy as np\n",
    "from sqlalchemy import create_engine\n"
   ]
  },
  {
   "cell_type": "code",
   "execution_count": 2,
   "metadata": {},
   "outputs": [
    {
     "name": "stderr",
     "output_type": "stream",
     "text": [
      "/home/munozaaron/.local/lib/python3.5/site-packages/psycopg2/__init__.py:144: UserWarning: The psycopg2 wheel package will be renamed from release 2.8; in order to keep installing from binary please use \"pip install psycopg2-binary\" instead. For details see: <http://initd.org/psycopg/docs/install.html#binary-install-from-pypi>.\n",
      "  \"\"\")\n"
     ]
    }
   ],
   "source": [
    "conn = create_engine('postgresql://********@localhost:5432/mcnulty_songs').raw_connection()\n",
    "cursor = conn.cursor()"
   ]
  },
  {
   "cell_type": "code",
   "execution_count": 3,
   "metadata": {},
   "outputs": [],
   "source": [
    "cursor.execute('''ALTER TABLE artist_similarity \n",
    "                    add constraint fk_account_id \n",
    "                      foreign key (target) \n",
    "                      references artist (artist_id);''')\n",
    "\n",
    "cursor.execute('''ALTER TABLE artist_term \n",
    "                    add constraint fk_account_id \n",
    "                      foreign key (artist_id) \n",
    "                      references artist (artist_id);''')\n",
    "\n",
    "cursor.execute('''ALTER TABLE song_metadata_hdf5 \n",
    "                    add constraint fk_account_id \n",
    "                      foreign key (artist_id) \n",
    "                      references artist (artist_id);''')"
   ]
  },
  {
   "cell_type": "code",
   "execution_count": 4,
   "metadata": {},
   "outputs": [],
   "source": [
    "conn.commit()"
   ]
  },
  {
   "cell_type": "code",
   "execution_count": 9,
   "metadata": {},
   "outputs": [],
   "source": [
    "conn = create_engine('postgresql://********@localhost:5432/mcnulty_songs').raw_connection()\n",
    "cursor = conn.cursor()"
   ]
  },
  {
   "cell_type": "code",
   "execution_count": 10,
   "metadata": {},
   "outputs": [],
   "source": [
    "cursor.execute('''ALTER TABLE track_analysis \n",
    "                    add constraint fk_track_id \n",
    "                      foreign key (track_id) \n",
    "                      references track_metadata (target_id);''')\n",
    "\n",
    "#cursor.execute('''ALTER TABLE song_metadata_hdf5 \n",
    " #                   add constraint fk_song_id \n",
    "  #                    foreign key (song_id) \n",
    "   #                   references track_metadata (song_id);''')\n",
    "\n",
    "cursor.execute('''ALTER TABLE track_metadata \n",
    "                    add constraint fk_account_id \n",
    "                      foreign key (artist_id) \n",
    "                      references artist (artist_id);''')"
   ]
  },
  {
   "cell_type": "code",
   "execution_count": 11,
   "metadata": {},
   "outputs": [],
   "source": [
    "conn.commit()"
   ]
  },
  {
   "cell_type": "code",
   "execution_count": null,
   "metadata": {},
   "outputs": [],
   "source": []
  }
 ],
 "metadata": {
  "kernelspec": {
   "display_name": "Python 3",
   "language": "python",
   "name": "python3"
  },
  "language_info": {
   "codemirror_mode": {
    "name": "ipython",
    "version": 3
   },
   "file_extension": ".py",
   "mimetype": "text/x-python",
   "name": "python",
   "nbconvert_exporter": "python",
   "pygments_lexer": "ipython3",
   "version": "3.6.4"
  }
 },
 "nbformat": 4,
 "nbformat_minor": 2
}
