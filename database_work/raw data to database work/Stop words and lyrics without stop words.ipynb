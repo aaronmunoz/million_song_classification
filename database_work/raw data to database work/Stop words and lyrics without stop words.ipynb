{
 "cells": [
  {
   "cell_type": "code",
   "execution_count": 17,
   "metadata": {},
   "outputs": [],
   "source": [
    "import pandas as pd\n",
    "import numpy as np\n",
    "from sqlalchemy import create_engine\n",
    "\n",
    "from nltk.corpus import stopwords"
   ]
  },
  {
   "cell_type": "code",
   "execution_count": 18,
   "metadata": {},
   "outputs": [],
   "source": [
    "conn = create_engine('postgresql://*******@localhost:5432/mcnulty_songs').raw_connection()\n",
    "cursor = conn.cursor()"
   ]
  },
  {
   "cell_type": "code",
   "execution_count": 19,
   "metadata": {},
   "outputs": [],
   "source": [
    "stops = list(set(stopwords.words()))"
   ]
  },
  {
   "cell_type": "code",
   "execution_count": 20,
   "metadata": {
    "scrolled": true
   },
   "outputs": [],
   "source": [
    "df = pd.DataFrame(stops, columns=['stopword'])\n",
    "df.set_index('stopword', inplace=True)\n"
   ]
  },
  {
   "cell_type": "code",
   "execution_count": 21,
   "metadata": {},
   "outputs": [],
   "source": [
    "df.to_csv('stopwords.csv')"
   ]
  },
  {
   "cell_type": "code",
   "execution_count": null,
   "metadata": {},
   "outputs": [],
   "source": []
  },
  {
   "cell_type": "code",
   "execution_count": 22,
   "metadata": {},
   "outputs": [],
   "source": [
    "cursor.execute('''CREATE TEMP TABLE stopword (\n",
    "                    stopword character(30)\n",
    "                    ) ON COMMIT DROP;''')\n",
    "\n",
    "with open('stopwords.csv', 'r') as f:\n",
    "    cmd = 'COPY stopword FROM STDIN WITH (FORMAT CSV, HEADER TRUE)'\n",
    "    cursor.copy_expert(cmd, f)\n",
    "    #conn.commit()\n",
    "    \n",
    "cursor.execute('''CREATE OR REPLACE VIEW lyrics_without_stop_words AS\n",
    "                      SELECT track_id, word, count, is_test\n",
    "                      FROM lyrics WHERE NOT EXISTS (\n",
    "                          SELECT 1\n",
    "                          FROM stopword\n",
    "                          WHERE lyrics.word = stopword.stopword\n",
    "                      );''')\n",
    "\n"
   ]
  },
  {
   "cell_type": "code",
   "execution_count": null,
   "metadata": {},
   "outputs": [],
   "source": [
    "\n",
    "\n"
   ]
  },
  {
   "cell_type": "code",
   "execution_count": 23,
   "metadata": {},
   "outputs": [],
   "source": [
    "#3:31\n",
    "cursor.execute('''INSERT INTO stopless_lyrics\n",
    "                    SELECT * from lyrics_without_stop_words;''')\n",
    "conn.commit()"
   ]
  },
  {
   "cell_type": "code",
   "execution_count": null,
   "metadata": {},
   "outputs": [],
   "source": []
  },
  {
   "cell_type": "code",
   "execution_count": null,
   "metadata": {},
   "outputs": [],
   "source": [
    "cursor.execute('''CREATE TABLE stopless_lyrics ( \n",
    "                track_id character(18),\n",
    "                word character(60),\n",
    "                count integer,\n",
    "                is_test boolean\n",
    "               );''')\n",
    "\n",
    "cursor.execute('''CREATE INDEX track_slyric_index ON stopless_lyrics (track_id);''')\n",
    "cursor.execute('''CREATE INDEX word_slyric_index ON stopless_lyrics (word);''')\n",
    "cursor.execute('''CREATE INDEX count_slyric_index ON stopless_lyrics (count);''')\n",
    "cursor.execute('''CREATE INDEX test_slyric_index ON stopless_lyrics (is_test);''')\n",
    "\n",
    "conn.commit()"
   ]
  }
 ],
 "metadata": {
  "kernelspec": {
   "display_name": "Python 3",
   "language": "python",
   "name": "python3"
  },
  "language_info": {
   "codemirror_mode": {
    "name": "ipython",
    "version": 3
   },
   "file_extension": ".py",
   "mimetype": "text/x-python",
   "name": "python",
   "nbconvert_exporter": "python",
   "pygments_lexer": "ipython3",
   "version": "3.6.4"
  }
 },
 "nbformat": 4,
 "nbformat_minor": 2
}
