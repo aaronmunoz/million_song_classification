{
 "cells": [
  {
   "cell_type": "markdown",
   "metadata": {},
   "source": [
    "# Lyric DEA #"
   ]
  },
  {
   "cell_type": "markdown",
   "metadata": {},
   "source": [
    "## Imports, Inits, and Method definitions ##"
   ]
  },
  {
   "cell_type": "code",
   "execution_count": 64,
   "metadata": {},
   "outputs": [],
   "source": [
    "import pandas as pd\n",
    "import numpy as np\n",
    "from sqlalchemy import create_engine\n",
    "\n",
    "import matplotlib.pyplot as plt\n",
    "import matplotlib as mpl\n",
    "import seaborn as sns\n",
    "sns.set()\n",
    "\n",
    "%matplotlib inline\n",
    "\n",
    "from sklearn.model_selection import train_test_split, cross_val_score\n",
    "from sklearn.metrics import accuracy_score, precision_score, recall_score, f1_score, roc_curve, roc_auc_score\n",
    "from sklearn.linear_model import LogisticRegression\n",
    "from sklearn.naive_bayes import GaussianNB\n",
    "from sklearn.svm import SVC\n",
    "from sklearn.tree import DecisionTreeClassifier\n",
    "from sklearn.ensemble import RandomForestClassifier\n",
    "\n",
    "import importlib\n",
    "\n",
    "import mcnulty_methods\n",
    "import word_utils\n",
    "importlib.reload(mcnulty_methods);\n",
    "importlib.reload(word_utils);\n",
    "from mcnulty_methods import get_formatted_feature_df, get_lyrics_for_tracks\n",
    "from word_utils import get_word_counts, generate_word_charts"
   ]
  },
  {
   "cell_type": "code",
   "execution_count": 54,
   "metadata": {},
   "outputs": [],
   "source": [
    "mpl.rcParams['axes.titlesize'] = 16\n",
    "mpl.rcParams['axes.labelsize'] = 16\n",
    "mpl.rcParams['xtick.labelsize'] = 13\n",
    "mpl.rcParams['ytick.labelsize'] = 13"
   ]
  },
  {
   "cell_type": "code",
   "execution_count": 55,
   "metadata": {},
   "outputs": [],
   "source": [
    "def get_artist_term_counts():\n",
    "    term_counts = pd.read_csv('top_artist_terms.csv', index_col='artist_id', names=['artist_id','term', 'term_count'])\n",
    "    term_counts = term_counts[~(term_counts['term'] == 'term')]\n",
    "    del term_counts['term_count']\n",
    "    return term_counts\n",
    "\n",
    "\n",
    "def get_term_counts():\n",
    "    return pd.read_csv('term_counts.csv', names=['term', 'count'])"
   ]
  },
  {
   "cell_type": "markdown",
   "metadata": {},
   "source": [
    "## Fetch Tracks for Particular Genres"
   ]
  },
  {
   "cell_type": "code",
   "execution_count": 56,
   "metadata": {},
   "outputs": [],
   "source": [
    "conn = create_engine('postgresql://@localhost:5432/mcnulty_songs').raw_connection()\n",
    "cursor = conn.cursor()"
   ]
  },
  {
   "cell_type": "code",
   "execution_count": 57,
   "metadata": {},
   "outputs": [],
   "source": [
    "features = get_formatted_feature_df(conn)"
   ]
  },
  {
   "cell_type": "code",
   "execution_count": 58,
   "metadata": {
    "scrolled": true
   },
   "outputs": [
    {
     "data": {
      "text/plain": [
       "(66730, 11)"
      ]
     },
     "execution_count": 58,
     "metadata": {},
     "output_type": "execute_result"
    }
   ],
   "source": [
    "features.shape"
   ]
  },
  {
   "cell_type": "code",
   "execution_count": 59,
   "metadata": {
    "scrolled": true
   },
   "outputs": [
    {
     "data": {
      "text/html": [
       "<div>\n",
       "<style scoped>\n",
       "    .dataframe tbody tr th:only-of-type {\n",
       "        vertical-align: middle;\n",
       "    }\n",
       "\n",
       "    .dataframe tbody tr th {\n",
       "        vertical-align: top;\n",
       "    }\n",
       "\n",
       "    .dataframe thead th {\n",
       "        text-align: right;\n",
       "    }\n",
       "</style>\n",
       "<table border=\"1\" class=\"dataframe\">\n",
       "  <thead>\n",
       "    <tr style=\"text-align: right;\">\n",
       "      <th></th>\n",
       "      <th>title</th>\n",
       "      <th>artist_id</th>\n",
       "      <th>artist_name</th>\n",
       "      <th>track_id</th>\n",
       "      <th>term</th>\n",
       "      <th>duration</th>\n",
       "      <th>music_key</th>\n",
       "      <th>loudness</th>\n",
       "      <th>mode</th>\n",
       "      <th>music_tempo</th>\n",
       "      <th>time_signature</th>\n",
       "    </tr>\n",
       "  </thead>\n",
       "  <tbody>\n",
       "    <tr>\n",
       "      <th>49599</th>\n",
       "      <td>Amor Ciego - Original</td>\n",
       "      <td>ARPCEWC11F4C83EEA7</td>\n",
       "      <td>Eddie Palmieri and Friends</td>\n",
       "      <td>TRSFYFW128F930D6CE</td>\n",
       "      <td>pop</td>\n",
       "      <td>237.73995</td>\n",
       "      <td>0</td>\n",
       "      <td>-16.793</td>\n",
       "      <td>0</td>\n",
       "      <td>146.878</td>\n",
       "      <td>1</td>\n",
       "    </tr>\n",
       "    <tr>\n",
       "      <th>18943</th>\n",
       "      <td>Make me feel</td>\n",
       "      <td>AR0JBWB1187B98A662</td>\n",
       "      <td>Mariana</td>\n",
       "      <td>TRFZRTJ12903CC31CF</td>\n",
       "      <td>pop</td>\n",
       "      <td>207.90812</td>\n",
       "      <td>7</td>\n",
       "      <td>-7.075</td>\n",
       "      <td>1</td>\n",
       "      <td>125.011</td>\n",
       "      <td>4</td>\n",
       "    </tr>\n",
       "    <tr>\n",
       "      <th>14311</th>\n",
       "      <td>Back Wordz</td>\n",
       "      <td>ARZH4561187B9AE9FB</td>\n",
       "      <td>Bekay</td>\n",
       "      <td>TRRTPVJ128F427AD6C</td>\n",
       "      <td>hip hop</td>\n",
       "      <td>204.27710</td>\n",
       "      <td>0</td>\n",
       "      <td>-10.054</td>\n",
       "      <td>1</td>\n",
       "      <td>112.002</td>\n",
       "      <td>4</td>\n",
       "    </tr>\n",
       "    <tr>\n",
       "      <th>12888</th>\n",
       "      <td>Game For You</td>\n",
       "      <td>AR6OL631187FB49241</td>\n",
       "      <td>Colby O'Donis</td>\n",
       "      <td>TRCYJKK128F92DF5E5</td>\n",
       "      <td>pop</td>\n",
       "      <td>204.32934</td>\n",
       "      <td>11</td>\n",
       "      <td>-6.664</td>\n",
       "      <td>1</td>\n",
       "      <td>104.996</td>\n",
       "      <td>4</td>\n",
       "    </tr>\n",
       "    <tr>\n",
       "      <th>4744</th>\n",
       "      <td>Pretty Girl</td>\n",
       "      <td>ARO80D41187B9B8D8F</td>\n",
       "      <td>Jon B</td>\n",
       "      <td>TRWOFYM128F4263BBB</td>\n",
       "      <td>pop</td>\n",
       "      <td>257.61914</td>\n",
       "      <td>0</td>\n",
       "      <td>-9.420</td>\n",
       "      <td>1</td>\n",
       "      <td>92.981</td>\n",
       "      <td>4</td>\n",
       "    </tr>\n",
       "  </tbody>\n",
       "</table>\n",
       "</div>"
      ],
      "text/plain": [
       "                       title           artist_id                 artist_name  \\\n",
       "49599  Amor Ciego - Original  ARPCEWC11F4C83EEA7  Eddie Palmieri and Friends   \n",
       "18943           Make me feel  AR0JBWB1187B98A662                     Mariana   \n",
       "14311             Back Wordz  ARZH4561187B9AE9FB                       Bekay   \n",
       "12888           Game For You  AR6OL631187FB49241               Colby O'Donis   \n",
       "4744             Pretty Girl  ARO80D41187B9B8D8F                       Jon B   \n",
       "\n",
       "                 track_id     term   duration music_key  loudness  mode  \\\n",
       "49599  TRSFYFW128F930D6CE      pop  237.73995         0   -16.793     0   \n",
       "18943  TRFZRTJ12903CC31CF      pop  207.90812         7    -7.075     1   \n",
       "14311  TRRTPVJ128F427AD6C  hip hop  204.27710         0   -10.054     1   \n",
       "12888  TRCYJKK128F92DF5E5      pop  204.32934        11    -6.664     1   \n",
       "4744   TRWOFYM128F4263BBB      pop  257.61914         0    -9.420     1   \n",
       "\n",
       "       music_tempo  time_signature  \n",
       "49599      146.878               1  \n",
       "18943      125.011               4  \n",
       "14311      112.002               4  \n",
       "12888      104.996               4  \n",
       "4744        92.981               4  "
      ]
     },
     "execution_count": 59,
     "metadata": {},
     "output_type": "execute_result"
    }
   ],
   "source": [
    "features.sample(5)"
   ]
  },
  {
   "cell_type": "markdown",
   "metadata": {},
   "source": [
    "## Fetch Lyrics from Tracks ##"
   ]
  },
  {
   "cell_type": "code",
   "execution_count": 65,
   "metadata": {},
   "outputs": [
    {
     "data": {
      "image/png": "[encoded data removed]",
      "text/plain": [
       "<matplotlib.figure.Figure at 0x7f1c79044a90>"
      ]
     },
     "metadata": {},
     "output_type": "display_data"
    },
    {
     "data": {
      "image/png": "[encoded data removed]",
      "text/plain": [
       "<matplotlib.figure.Figure at 0x7f1c800efe48>"
      ]
     },
     "metadata": {},
     "output_type": "display_data"
    },
    {
     "data": {
      "image/png": "[encoded data removed]",
      "text/plain": [
       "<matplotlib.figure.Figure at 0x7f1c8c242cf8>"
      ]
     },
     "metadata": {},
     "output_type": "display_data"
    },
    {
     "data": {
      "image/png": "[encoded data removed]",
      "text/plain": [
       "<matplotlib.figure.Figure at 0x7f1c7c8e3198>"
      ]
     },
     "metadata": {},
     "output_type": "display_data"
    }
   ],
   "source": [
    "genre_labels = ['hip hop', 'pop']\n",
    "unique_words = set()\n",
    "\n",
    "all_lyrics = None\n",
    "hiphop_lyrics = None\n",
    "pop_lyrics = None\n",
    "\n",
    "for genre_label in genre_labels:\n",
    "    genre_df = features[(features['term'] == genre_label)]\n",
    "\n",
    "    genre_ids = genre_df['track_id']\n",
    "    \n",
    "    genre_lyrics = get_lyrics_for_tracks(conn, genre_ids)\n",
    "\n",
    "    \n",
    "    if genre_label == 'pop':\n",
    "        pop_lyrics = genre_lyrics\n",
    "    elif genre_label == 'hip hop':\n",
    "        hiphop_lyrics = genre_lyrics\n",
    "        \n",
    "    if all_lyrics is None:\n",
    "        all_lyrics = genre_lyrics\n",
    "    else:\n",
    "        all_lyrics = pd.concat([all_lyrics, genre_lyrics])\n",
    "    \n",
    "    generate_word_charts(genre_lyrics, genre_label)\n"
   ]
  },
  {
   "cell_type": "code",
   "execution_count": 40,
   "metadata": {
    "scrolled": false
   },
   "outputs": [
    {
     "data": {
      "image/png": "[encoded data removed]",
      "text/plain": [
       "<matplotlib.figure.Figure at 0x7f1c90e06e10>"
      ]
     },
     "metadata": {},
     "output_type": "display_data"
    },
    {
     "data": {
      "image/png": "[encoded data removed]",
      "text/plain": [
       "<matplotlib.figure.Figure at 0x7f1c8d2d8d68>"
      ]
     },
     "metadata": {},
     "output_type": "display_data"
    }
   ],
   "source": [
    "generate_word_charts(all_lyrics, 'hip hop and pop')"
   ]
  },
  {
   "cell_type": "code",
   "execution_count": 41,
   "metadata": {},
   "outputs": [
    {
     "data": {
      "text/html": [
       "<div>\n",
       "<style scoped>\n",
       "    .dataframe tbody tr th:only-of-type {\n",
       "        vertical-align: middle;\n",
       "    }\n",
       "\n",
       "    .dataframe tbody tr th {\n",
       "        vertical-align: top;\n",
       "    }\n",
       "\n",
       "    .dataframe thead th {\n",
       "        text-align: right;\n",
       "    }\n",
       "</style>\n",
       "<table border=\"1\" class=\"dataframe\">\n",
       "  <thead>\n",
       "    <tr style=\"text-align: right;\">\n",
       "      <th></th>\n",
       "      <th>word</th>\n",
       "      <th>count</th>\n",
       "    </tr>\n",
       "  </thead>\n",
       "  <tbody>\n",
       "    <tr>\n",
       "      <th>2170</th>\n",
       "      <td>like</td>\n",
       "      <td>22699</td>\n",
       "    </tr>\n",
       "    <tr>\n",
       "      <th>2069</th>\n",
       "      <td>know</td>\n",
       "      <td>21079</td>\n",
       "    </tr>\n",
       "    <tr>\n",
       "      <th>2237</th>\n",
       "      <td>love</td>\n",
       "      <td>20439</td>\n",
       "    </tr>\n",
       "    <tr>\n",
       "      <th>1593</th>\n",
       "      <td>get</td>\n",
       "      <td>19670</td>\n",
       "    </tr>\n",
       "    <tr>\n",
       "      <th>1647</th>\n",
       "      <td>got</td>\n",
       "      <td>16060</td>\n",
       "    </tr>\n",
       "    <tr>\n",
       "      <th>1631</th>\n",
       "      <td>go</td>\n",
       "      <td>12534</td>\n",
       "    </tr>\n",
       "    <tr>\n",
       "      <th>2609</th>\n",
       "      <td>oh</td>\n",
       "      <td>11859</td>\n",
       "    </tr>\n",
       "    <tr>\n",
       "      <th>2543</th>\n",
       "      <td>nigga</td>\n",
       "      <td>11441</td>\n",
       "    </tr>\n",
       "    <tr>\n",
       "      <th>3291</th>\n",
       "      <td>see</td>\n",
       "      <td>11026</td>\n",
       "    </tr>\n",
       "    <tr>\n",
       "      <th>2632</th>\n",
       "      <td>one</td>\n",
       "      <td>10963</td>\n",
       "    </tr>\n",
       "  </tbody>\n",
       "</table>\n",
       "</div>"
      ],
      "text/plain": [
       "       word  count\n",
       "2170   like  22699\n",
       "2069   know  21079\n",
       "2237   love  20439\n",
       "1593    get  19670\n",
       "1647    got  16060\n",
       "1631     go  12534\n",
       "2609     oh  11859\n",
       "2543  nigga  11441\n",
       "3291    see  11026\n",
       "2632    one  10963"
      ]
     },
     "execution_count": 41,
     "metadata": {},
     "output_type": "execute_result"
    }
   ],
   "source": [
    "total_count_of_words = all_lyrics.groupby('word')['count'].sum().reset_index()\n",
    "\n",
    "total_count_of_words.sort_values('count', ascending=False, inplace=True)\n",
    "\n",
    "total_count_of_words.head(10)"
   ]
  },
  {
   "cell_type": "code",
   "execution_count": 15,
   "metadata": {
    "scrolled": true
   },
   "outputs": [],
   "source": [
    "track_word_counts = all_lyrics.groupby('track_id')['count'].sum()\n",
    "\n",
    "#track_word_counts.sort_values('count', ascending=False, inplace=True)"
   ]
  },
  {
   "cell_type": "markdown",
   "metadata": {},
   "source": [
    "## Hip Hop: Analyze per track word counts ##"
   ]
  },
  {
   "cell_type": "code",
   "execution_count": 16,
   "metadata": {},
   "outputs": [
    {
     "data": {
      "text/plain": [
       "count    3266.000000\n",
       "mean      178.008879\n",
       "std       110.165940\n",
       "min         1.000000\n",
       "25%        89.000000\n",
       "50%       173.000000\n",
       "75%       248.000000\n",
       "max      2133.000000\n",
       "Name: count, dtype: float64"
      ]
     },
     "execution_count": 16,
     "metadata": {},
     "output_type": "execute_result"
    }
   ],
   "source": [
    "track_word_counts = hiphop_lyrics.groupby('track_id')['count'].sum().reset_index()\n",
    "\n",
    "track_word_counts.sort_values('count', ascending=False, inplace=True)\n",
    "\n",
    "track_word_counts['count'].describe()"
   ]
  },
  {
   "cell_type": "markdown",
   "metadata": {},
   "source": [
    "## Pop: Analyze per track word counts ##"
   ]
  },
  {
   "cell_type": "code",
   "execution_count": 17,
   "metadata": {
    "scrolled": true
   },
   "outputs": [
    {
     "data": {
      "text/plain": [
       "count    10226.000000\n",
       "mean       104.277039\n",
       "std         79.867972\n",
       "min          1.000000\n",
       "25%         52.000000\n",
       "50%         83.000000\n",
       "75%        130.000000\n",
       "max       1350.000000\n",
       "Name: count, dtype: float64"
      ]
     },
     "execution_count": 17,
     "metadata": {},
     "output_type": "execute_result"
    }
   ],
   "source": [
    "track_word_counts = pop_lyrics.groupby('track_id')['count'].sum().reset_index()\n",
    "\n",
    "track_word_counts.sort_values('count', ascending=False, inplace=True)\n",
    "\n",
    "track_word_counts['count'].describe()"
   ]
  },
  {
   "cell_type": "markdown",
   "metadata": {},
   "source": [
    "May want to consider dropping tracks with very few words"
   ]
  },
  {
   "cell_type": "code",
   "execution_count": 18,
   "metadata": {},
   "outputs": [],
   "source": [
    "features.set_index('track_id', inplace=True)"
   ]
  },
  {
   "cell_type": "markdown",
   "metadata": {},
   "source": [
    "## Word Analysis and Reshaping for Modeling ##"
   ]
  },
  {
   "cell_type": "code",
   "execution_count": 19,
   "metadata": {
    "scrolled": false
   },
   "outputs": [
    {
     "name": "stdout",
     "output_type": "stream",
     "text": [
      "Total Unique Words: 4351\n",
      "-------------------\n",
      "             count\n",
      "count  4351.000000\n",
      "mean    199.842105\n",
      "std     414.345192\n",
      "min       1.000000\n",
      "25%      40.000000\n",
      "50%      76.000000\n",
      "75%     175.000000\n",
      "max    5888.000000\n",
      "-------------------\n"
     ]
    }
   ],
   "source": [
    "word_song_appearance, total_word_appearance = get_word_counts(all_lyrics)\n",
    "\n",
    "print('Total Unique Words: {}'.format(word_song_appearance.shape[0]))\n",
    "print('-------------------')\n",
    "print(word_song_appearance.describe())\n",
    "print('-------------------')\n"
   ]
  },
  {
   "cell_type": "markdown",
   "metadata": {},
   "source": [
    "## Feature Selection ##\n",
    "\n",
    "Starting with the top x words found per song in the dataset, we'll add features and record the results from our classification models"
   ]
  },
  {
   "cell_type": "code",
   "execution_count": 20,
   "metadata": {},
   "outputs": [],
   "source": [
    "def plot_ROC_compute_AUC(model, model_name, X,y):\n",
    "    X_val, X_val_test, y_val, y_val_test = train_test_split(X, y, test_size=test_size, random_state=random_state)\n",
    "\n",
    "    lr_3x.fit(X_val, y_val)\n",
    "    y_prob = lr_3x.predict_proba(X_val_test)[:,1]\n",
    "    auc = roc_auc_score(y_val_test, y_prob)\n",
    "    \n",
    "    return auc\n",
    "    #TODO save these\n",
    "    fpr, tpr, _ = roc_curve(y_val_test, y_prob)\n",
    "    auc = roc_auc_score(y_val_test, y_prob)\n",
    "\n",
    "    plt.plot(fpr, tpr)\n",
    "\n",
    "    x = np.linspace(0,1, 100000)\n",
    "    plt.plot(x, x, linestyle='--')\n",
    "\n",
    "    plt.title('ROC Curve (Pop or Hip Hop)')\n",
    "    plt.xlabel('False Positive Rate')\n",
    "    plt.ylabel('True Positive Rate')\n",
    "    plt.legend(['Logistic Regression'])\n",
    "    return auc"
   ]
  },
  {
   "cell_type": "code",
   "execution_count": 21,
   "metadata": {},
   "outputs": [],
   "source": [
    "def create_test_result_df(rows):\n",
    "    test_results = pd.DataFrame(rows, columns=['num_words','model','accuracy','precision','recall','f1','auc'])\n",
    "    test_results['accuracy'] = test_results['accuracy'].astype(np.float64)\n",
    "    test_results['precision'] = test_results['precision'].astype(np.float64)\n",
    "    test_results['recall'] = test_results['recall'].astype(np.float64)\n",
    "    test_results['f1'] = test_results['f1'].astype(np.float64)\n",
    "    test_results['auc'] = test_results['auc'].astype(np.float64)\n",
    "    return test_results"
   ]
  },
  {
   "cell_type": "code",
   "execution_count": 25,
   "metadata": {},
   "outputs": [],
   "source": [
    "del all_lyrics['is_test']"
   ]
  },
  {
   "cell_type": "code",
   "execution_count": 27,
   "metadata": {},
   "outputs": [
    {
     "data": {
      "text/html": [
       "<div>\n",
       "<style scoped>\n",
       "    .dataframe tbody tr th:only-of-type {\n",
       "        vertical-align: middle;\n",
       "    }\n",
       "\n",
       "    .dataframe tbody tr th {\n",
       "        vertical-align: top;\n",
       "    }\n",
       "\n",
       "    .dataframe thead th {\n",
       "        text-align: right;\n",
       "    }\n",
       "</style>\n",
       "<table border=\"1\" class=\"dataframe\">\n",
       "  <thead>\n",
       "    <tr style=\"text-align: right;\">\n",
       "      <th></th>\n",
       "      <th>word</th>\n",
       "      <th>count</th>\n",
       "    </tr>\n",
       "    <tr>\n",
       "      <th>track_id</th>\n",
       "      <th></th>\n",
       "      <th></th>\n",
       "    </tr>\n",
       "  </thead>\n",
       "  <tbody>\n",
       "    <tr>\n",
       "      <th>TREQUFU128E0798B10</th>\n",
       "      <td>let</td>\n",
       "      <td>2</td>\n",
       "    </tr>\n",
       "    <tr>\n",
       "      <th>TRDPEUG128F1479BC7</th>\n",
       "      <td>perfect</td>\n",
       "      <td>1</td>\n",
       "    </tr>\n",
       "    <tr>\n",
       "      <th>TRVVOUX128F1456D85</th>\n",
       "      <td>green</td>\n",
       "      <td>2</td>\n",
       "    </tr>\n",
       "    <tr>\n",
       "      <th>TRJDJDD128F42598DD</th>\n",
       "      <td>mission</td>\n",
       "      <td>1</td>\n",
       "    </tr>\n",
       "    <tr>\n",
       "      <th>TRLVUNF128F931A650</th>\n",
       "      <td>rise</td>\n",
       "      <td>1</td>\n",
       "    </tr>\n",
       "  </tbody>\n",
       "</table>\n",
       "</div>"
      ],
      "text/plain": [
       "                       word  count\n",
       "track_id                          \n",
       "TREQUFU128E0798B10      let      2\n",
       "TRDPEUG128F1479BC7  perfect      1\n",
       "TRVVOUX128F1456D85    green      2\n",
       "TRJDJDD128F42598DD  mission      1\n",
       "TRLVUNF128F931A650     rise      1"
      ]
     },
     "execution_count": 27,
     "metadata": {},
     "output_type": "execute_result"
    }
   ],
   "source": [
    "all_lyrics.sample(5)"
   ]
  },
  {
   "cell_type": "code",
   "execution_count": null,
   "metadata": {
    "scrolled": false
   },
   "outputs": [],
   "source": [
    "#word_subset = word_song_appearance[word_song_appearance['count'] >= 500]\n",
    "cv_df_count = 0\n",
    "\n",
    "log_model = LogisticRegression()\n",
    "lr_2x = LogisticRegression(class_weight={1 : 2, 0 : 1})\n",
    "lr_3x = LogisticRegression(class_weight={1 : 3, 0 : 1})\n",
    "lr_4x = LogisticRegression(class_weight={1 : 4, 0 : 1})\n",
    "\n",
    "word_chunk_size = 10\n",
    "word_upper_bound = 3010\n",
    "# let's stop at 3000 words\n",
    "test_results = create_test_result_df(None)\n",
    "\n",
    "for word_sample_size in range(10, word_upper_bound, word_chunk_size):\n",
    "    test_df_index = 0\n",
    "    word_subset = word_song_appearance.iloc[:word_sample_size]\n",
    "\n",
    "    remaining_lyrics = pd.merge(all_lyrics.reset_index(), word_subset[['word']], how='right', on='word')\n",
    "\n",
    "    remaining_lyrics.set_index('track_id', inplace=True)\n",
    "    del remaining_lyrics['is_test']\n",
    "    tid_lyrics = remaining_lyrics.pivot(columns='word', values='count')\n",
    "\n",
    "    music_features = ['duration','music_key','loudness', 'mode', 'music_tempo', 'time_signature']\n",
    "    term_only = features[['term']].reset_index().set_index('track_id')\n",
    "\n",
    "    # complete set,= tid_index -> genre -> word_a -> .... -> word_z\n",
    "    complete_set = pd.merge(term_only, tid_lyrics, left_index=True, right_index=True, how='right')\n",
    "    complete_set.fillna(0, inplace=True)\n",
    "\n",
    "\n",
    "    test_size = 0.2\n",
    "    random_state = 10\n",
    "    y_text = np.asarray(complete_set.iloc[:,0])\n",
    "    y = np.array([1 if val=='hip hop' else 0 for val in y_text])\n",
    "    X = np.asarray(complete_set.iloc[:,1:])\n",
    "\n",
    "    X_val, X_test, y_val, y_test = train_test_split(X, y, test_size=test_size, random_state=random_state)\n",
    "    models = [log_model, lr_2x, lr_3x, lr_4x]\n",
    "    model_names = ['log', 'log_2:1', 'log_3:1', 'log_4:1']\n",
    "    cv_rows = []\n",
    "    for idx, model in enumerate(models):\n",
    "        accuracy = np.mean(cross_val_score(model, X_val, y_val, cv=5, n_jobs=-1, scoring='accuracy'))\n",
    "        precision = np.mean(cross_val_score(model, X_val, y_val, cv=5, n_jobs=-1, scoring='precision'))\n",
    "        recall = np.mean(cross_val_score(model, X_val, y_val, cv=5, n_jobs=-1, scoring='recall'))\n",
    "        f1 = np.mean(cross_val_score(model, X_val, y_val, cv=5, n_jobs=-1, scoring='f1'))\n",
    "        model_name = model_names[idx]\n",
    "        auc = plot_ROC_compute_AUC(model, model_name, X_val, y_val)\n",
    "        \n",
    "        cv_row = [word_sample_size, model_name, accuracy, precision, recall, f1, auc]\n",
    "        cv_rows.append(cv_row)\n",
    "    \n",
    "    new_df = create_test_result_df(cv_rows)\n",
    "    \n",
    "    test_results = test_results.append(new_df, ignore_index=True)\n",
    "    #test_results.to_csv('cv_files/feature_cv_results.csv')\n",
    "        \n",
    "    "
   ]
  },
  {
   "cell_type": "markdown",
   "metadata": {},
   "source": [
    "**2:1(lr_3x) Hip Hop to Pop weighting seems to be the winner**"
   ]
  },
  {
   "cell_type": "code",
   "execution_count": null,
   "metadata": {},
   "outputs": [],
   "source": [
    "\n",
    "    \n",
    "plot_ROC_compute_AUC(X_val, y_val)"
   ]
  },
  {
   "cell_type": "code",
   "execution_count": null,
   "metadata": {},
   "outputs": [],
   "source": [
    "models = [GaussianNB(), DecisionTreeClassifier(), RandomForestClassifier(n_estimators=100)]\n",
    "scores = []\n",
    "model_name = []\n",
    "for idx, model in enumerate(models):\n",
    "    accuracy = cross_val_score(model, X_val, y_val, cv=5, n_jobs=-1, scoring='accuracy')\n",
    "    precision = cross_val_score(model, X_val, y_val, cv=5, n_jobs=-1, scoring='precision')\n",
    "    recall = cross_val_score(model, X_val, y_val, cv=5, n_jobs=-1, scoring='recall')\n",
    "    f1 = cross_val_score(model, X_val, y_val, cv=5, n_jobs=-1, scoring='f1')\n",
    "\n",
    "    print('TRAINING SCORES: {}'.format(idx))\n",
    "    print('----------------')\n",
    "    print('Accuracy: {}'.format(np.mean(accuracy)))\n",
    "    print('Precision: {}'.format(np.mean(precision)))\n",
    "    print('Recall: {}'.format(np.mean(recall)))\n",
    "    print('F1: {}'.format(np.mean(f1)))\n",
    "    print('----------------')\n",
    "    \n",
    "    "
   ]
  },
  {
   "cell_type": "code",
   "execution_count": null,
   "metadata": {},
   "outputs": [],
   "source": [
    "import xgboost as xgb\n",
    "X_train, X_test, y_train, y_test = train_test_split(X, y, test_size=test_size, random_state=random_state)\n",
    "X_train, X_val, y_train, y_val = train_test_split(X_train, y_train, test_size=0.25, random_state=2019)\n",
    "\n",
    "gbm = xgb.XGBClassifier( \n",
    "                        n_estimators=10000,\n",
    "                        max_depth=7,\n",
    "                        objective='binary:logistic', #new objective\n",
    "                        learning_rate=.1, \n",
    "                        subsample=.8,\n",
    "                        min_child_weight=12,\n",
    "                        colsample_bytree=.8\n",
    "                       )\n",
    "\n",
    "eval_set=[(X_train,y_train),(X_val,y_val)]\n",
    "fit_model = gbm.fit( \n",
    "                    X_train, y_train, \n",
    "                    eval_set=eval_set,\n",
    "                    eval_metric='error', #new evaluation metric: classification error (could also use AUC, e.g.)\n",
    "                    early_stopping_rounds=50,\n",
    "                    verbose=False\n",
    "                   )\n",
    "\n",
    "f1_score(y_test, gbm.predict(X_test, ntree_limit=gbm.best_ntree_limit)) "
   ]
  },
  {
   "cell_type": "code",
   "execution_count": null,
   "metadata": {},
   "outputs": [],
   "source": [
    "f1_score(y_test, gbm.predict(X_test, ntree_limit=gbm.best_ntree_limit)) "
   ]
  },
  {
   "cell_type": "code",
   "execution_count": null,
   "metadata": {},
   "outputs": [],
   "source": []
  },
  {
   "cell_type": "code",
   "execution_count": null,
   "metadata": {},
   "outputs": [],
   "source": []
  }
 ],
 "metadata": {
  "gist_id": "6817504c0647c2400e2ae907f99cc451",
  "kernelspec": {
   "display_name": "Python 3",
   "language": "python",
   "name": "python3"
  },
  "language_info": {
   "codemirror_mode": {
    "name": "ipython",
    "version": 3
   },
   "file_extension": ".py",
   "mimetype": "text/x-python",
   "name": "python",
   "nbconvert_exporter": "python",
   "pygments_lexer": "ipython3",
   "version": "3.5.2"
  }
 },
 "nbformat": 4,
 "nbformat_minor": 2
}
