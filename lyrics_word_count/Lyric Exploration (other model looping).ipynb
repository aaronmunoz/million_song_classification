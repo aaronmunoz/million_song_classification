{
 "cells": [
  {
   "cell_type": "markdown",
   "metadata": {},
   "source": [
    "# Lyric DEA #"
   ]
  },
  {
   "cell_type": "markdown",
   "metadata": {},
   "source": [
    "## Imports, Inits, and Method definitions ##"
   ]
  },
  {
   "cell_type": "code",
   "execution_count": 1,
   "metadata": {},
   "outputs": [],
   "source": [
    "import pandas as pd\n",
    "import numpy as np\n",
    "from sqlalchemy import create_engine\n",
    "\n",
    "import matplotlib.pyplot as plt\n",
    "import matplotlib as mpl\n",
    "import seaborn as sns\n",
    "sns.set()\n",
    "\n",
    "%matplotlib inline\n",
    "\n",
    "from sklearn.model_selection import train_test_split, cross_val_score\n",
    "from sklearn.metrics import accuracy_score, precision_score, recall_score, f1_score, roc_curve, roc_auc_score\n",
    "from sklearn.linear_model import LogisticRegression\n",
    "from sklearn.naive_bayes import GaussianNB\n",
    "from sklearn.svm import SVC\n",
    "from sklearn.tree import DecisionTreeClassifier\n",
    "from sklearn.ensemble import RandomForestClassifier\n",
    "\n",
    "import importlib\n",
    "\n",
    "import mcnulty_methods\n",
    "import word_utils\n",
    "importlib.reload(mcnulty_methods);\n",
    "importlib.reload(word_utils);\n",
    "from mcnulty_methods import get_formatted_feature_df, get_lyrics_for_tracks\n",
    "from word_utils import get_word_counts, generate_word_charts\n"
   ]
  },
  {
   "cell_type": "code",
   "execution_count": 2,
   "metadata": {},
   "outputs": [],
   "source": [
    "mpl.rcParams['axes.titlesize'] = 16\n",
    "mpl.rcParams['axes.labelsize'] = 16\n",
    "mpl.rcParams['xtick.labelsize'] = 13\n",
    "mpl.rcParams['ytick.labelsize'] = 13"
   ]
  },
  {
   "cell_type": "markdown",
   "metadata": {},
   "source": [
    "## Fetch Tracks for Particular Genres"
   ]
  },
  {
   "cell_type": "code",
   "execution_count": 4,
   "metadata": {},
   "outputs": [
    {
     "name": "stderr",
     "output_type": "stream",
     "text": [
      "/home/munozaaron/.local/lib/python3.5/site-packages/psycopg2/__init__.py:144: UserWarning: The psycopg2 wheel package will be renamed from release 2.8; in order to keep installing from binary please use \"pip install psycopg2-binary\" instead. For details see: <http://initd.org/psycopg/docs/install.html#binary-install-from-pypi>.\n",
      "  \"\"\")\n"
     ]
    }
   ],
   "source": [
    "conn = create_engine('postgresql://*******@localhost:5432/mcnulty_songs').raw_connection()\n",
    "cursor = conn.cursor()"
   ]
  },
  {
   "cell_type": "code",
   "execution_count": 5,
   "metadata": {},
   "outputs": [],
   "source": [
    "features = get_formatted_feature_df(conn)"
   ]
  },
  {
   "cell_type": "code",
   "execution_count": 6,
   "metadata": {
    "scrolled": true
   },
   "outputs": [
    {
     "data": {
      "text/plain": [
       "(66730, 11)"
      ]
     },
     "execution_count": 6,
     "metadata": {},
     "output_type": "execute_result"
    }
   ],
   "source": [
    "features.shape"
   ]
  },
  {
   "cell_type": "code",
   "execution_count": 7,
   "metadata": {
    "scrolled": true
   },
   "outputs": [
    {
     "data": {
      "text/html": [
       "<div>\n",
       "<style scoped>\n",
       "    .dataframe tbody tr th:only-of-type {\n",
       "        vertical-align: middle;\n",
       "    }\n",
       "\n",
       "    .dataframe tbody tr th {\n",
       "        vertical-align: top;\n",
       "    }\n",
       "\n",
       "    .dataframe thead th {\n",
       "        text-align: right;\n",
       "    }\n",
       "</style>\n",
       "<table border=\"1\" class=\"dataframe\">\n",
       "  <thead>\n",
       "    <tr style=\"text-align: right;\">\n",
       "      <th></th>\n",
       "      <th>title</th>\n",
       "      <th>artist_id</th>\n",
       "      <th>artist_name</th>\n",
       "      <th>track_id</th>\n",
       "      <th>term</th>\n",
       "      <th>duration</th>\n",
       "      <th>music_key</th>\n",
       "      <th>loudness</th>\n",
       "      <th>mode</th>\n",
       "      <th>music_tempo</th>\n",
       "      <th>time_signature</th>\n",
       "    </tr>\n",
       "  </thead>\n",
       "  <tbody>\n",
       "    <tr>\n",
       "      <th>8101</th>\n",
       "      <td>March Of The Celts</td>\n",
       "      <td>AREACYD1187FB566DE</td>\n",
       "      <td>Enya</td>\n",
       "      <td>TRHHKVQ128F423C322</td>\n",
       "      <td>pop</td>\n",
       "      <td>197.66812</td>\n",
       "      <td>11</td>\n",
       "      <td>-25.136</td>\n",
       "      <td>1</td>\n",
       "      <td>106.882</td>\n",
       "      <td>4</td>\n",
       "    </tr>\n",
       "    <tr>\n",
       "      <th>35965</th>\n",
       "      <td>L'Important C'Est La Rose</td>\n",
       "      <td>AR6W9T51187B9A8B8E</td>\n",
       "      <td>Maurice Larcange</td>\n",
       "      <td>TRPKYSW128F92E7FAC</td>\n",
       "      <td>pop</td>\n",
       "      <td>173.71383</td>\n",
       "      <td>0</td>\n",
       "      <td>-10.527</td>\n",
       "      <td>1</td>\n",
       "      <td>132.206</td>\n",
       "      <td>4</td>\n",
       "    </tr>\n",
       "    <tr>\n",
       "      <th>23573</th>\n",
       "      <td>Hopelessly Hopeless</td>\n",
       "      <td>ARWLV931187B9B0F5A</td>\n",
       "      <td>Evergreen Terrace</td>\n",
       "      <td>TRZCOII128F932B9F4</td>\n",
       "      <td>pop</td>\n",
       "      <td>252.78649</td>\n",
       "      <td>1</td>\n",
       "      <td>-2.828</td>\n",
       "      <td>0</td>\n",
       "      <td>149.545</td>\n",
       "      <td>4</td>\n",
       "    </tr>\n",
       "    <tr>\n",
       "      <th>45420</th>\n",
       "      <td>The Blowers Daughter (Live)</td>\n",
       "      <td>ARI8PQM1187B99577F</td>\n",
       "      <td>CHET LAM</td>\n",
       "      <td>TREEIOQ128F147206C</td>\n",
       "      <td>pop</td>\n",
       "      <td>279.82322</td>\n",
       "      <td>4</td>\n",
       "      <td>-15.467</td>\n",
       "      <td>1</td>\n",
       "      <td>134.914</td>\n",
       "      <td>4</td>\n",
       "    </tr>\n",
       "    <tr>\n",
       "      <th>503</th>\n",
       "      <td>Dear Sistah (Skit)</td>\n",
       "      <td>AR2A5FD1187FB35F26</td>\n",
       "      <td>Hell Razah</td>\n",
       "      <td>TRMREHY128F4249557</td>\n",
       "      <td>hip hop</td>\n",
       "      <td>40.98567</td>\n",
       "      <td>9</td>\n",
       "      <td>-13.237</td>\n",
       "      <td>1</td>\n",
       "      <td>111.277</td>\n",
       "      <td>3</td>\n",
       "    </tr>\n",
       "  </tbody>\n",
       "</table>\n",
       "</div>"
      ],
      "text/plain": [
       "                             title           artist_id        artist_name  \\\n",
       "8101            March Of The Celts  AREACYD1187FB566DE               Enya   \n",
       "35965    L'Important C'Est La Rose  AR6W9T51187B9A8B8E   Maurice Larcange   \n",
       "23573          Hopelessly Hopeless  ARWLV931187B9B0F5A  Evergreen Terrace   \n",
       "45420  The Blowers Daughter (Live)  ARI8PQM1187B99577F           CHET LAM   \n",
       "503             Dear Sistah (Skit)  AR2A5FD1187FB35F26         Hell Razah   \n",
       "\n",
       "                 track_id     term   duration music_key  loudness  mode  \\\n",
       "8101   TRHHKVQ128F423C322      pop  197.66812        11   -25.136     1   \n",
       "35965  TRPKYSW128F92E7FAC      pop  173.71383         0   -10.527     1   \n",
       "23573  TRZCOII128F932B9F4      pop  252.78649         1    -2.828     0   \n",
       "45420  TREEIOQ128F147206C      pop  279.82322         4   -15.467     1   \n",
       "503    TRMREHY128F4249557  hip hop   40.98567         9   -13.237     1   \n",
       "\n",
       "       music_tempo  time_signature  \n",
       "8101       106.882               4  \n",
       "35965      132.206               4  \n",
       "23573      149.545               4  \n",
       "45420      134.914               4  \n",
       "503        111.277               3  "
      ]
     },
     "execution_count": 7,
     "metadata": {},
     "output_type": "execute_result"
    }
   ],
   "source": [
    "features.sample(5)"
   ]
  },
  {
   "cell_type": "markdown",
   "metadata": {},
   "source": [
    "## Fetch Lyrics from Tracks ##"
   ]
  },
  {
   "cell_type": "code",
   "execution_count": 10,
   "metadata": {},
   "outputs": [],
   "source": [
    "genre_labels = ['hip hop', 'pop']\n",
    "unique_words = set()\n",
    "\n",
    "all_lyrics = None\n",
    "hiphop_lyrics = None\n",
    "pop_lyrics = None\n",
    "\n",
    "for genre_label in genre_labels:\n",
    "    genre_df = features[(features['term'] == genre_label)]\n",
    "\n",
    "    genre_ids = genre_df['track_id']\n",
    "    \n",
    "    genre_lyrics = get_lyrics_for_tracks(conn, genre_ids)\n",
    "\n",
    "    \n",
    "    if genre_label == 'pop':\n",
    "        pop_lyrics = genre_lyrics\n",
    "    elif genre_label == 'hip hop':\n",
    "        hiphop_lyrics = genre_lyrics\n",
    "        \n",
    "    if all_lyrics is None:\n",
    "        all_lyrics = genre_lyrics\n",
    "    else:\n",
    "        all_lyrics = pd.concat([all_lyrics, genre_lyrics])\n",
    "    \n",
    "    "
   ]
  },
  {
   "cell_type": "code",
   "execution_count": 16,
   "metadata": {},
   "outputs": [
    {
     "data": {
      "text/html": [
       "<div>\n",
       "<style scoped>\n",
       "    .dataframe tbody tr th:only-of-type {\n",
       "        vertical-align: middle;\n",
       "    }\n",
       "\n",
       "    .dataframe tbody tr th {\n",
       "        vertical-align: top;\n",
       "    }\n",
       "\n",
       "    .dataframe thead th {\n",
       "        text-align: right;\n",
       "    }\n",
       "</style>\n",
       "<table border=\"1\" class=\"dataframe\">\n",
       "  <thead>\n",
       "    <tr style=\"text-align: right;\">\n",
       "      <th></th>\n",
       "      <th>word</th>\n",
       "      <th>count</th>\n",
       "    </tr>\n",
       "  </thead>\n",
       "  <tbody>\n",
       "    <tr>\n",
       "      <th>2170</th>\n",
       "      <td>like</td>\n",
       "      <td>22699</td>\n",
       "    </tr>\n",
       "    <tr>\n",
       "      <th>2069</th>\n",
       "      <td>know</td>\n",
       "      <td>21079</td>\n",
       "    </tr>\n",
       "    <tr>\n",
       "      <th>2237</th>\n",
       "      <td>love</td>\n",
       "      <td>20439</td>\n",
       "    </tr>\n",
       "    <tr>\n",
       "      <th>1593</th>\n",
       "      <td>get</td>\n",
       "      <td>19670</td>\n",
       "    </tr>\n",
       "    <tr>\n",
       "      <th>1647</th>\n",
       "      <td>got</td>\n",
       "      <td>16060</td>\n",
       "    </tr>\n",
       "    <tr>\n",
       "      <th>1631</th>\n",
       "      <td>go</td>\n",
       "      <td>12534</td>\n",
       "    </tr>\n",
       "    <tr>\n",
       "      <th>2609</th>\n",
       "      <td>oh</td>\n",
       "      <td>11859</td>\n",
       "    </tr>\n",
       "    <tr>\n",
       "      <th>2543</th>\n",
       "      <td>nigga</td>\n",
       "      <td>11441</td>\n",
       "    </tr>\n",
       "    <tr>\n",
       "      <th>3291</th>\n",
       "      <td>see</td>\n",
       "      <td>11026</td>\n",
       "    </tr>\n",
       "    <tr>\n",
       "      <th>2632</th>\n",
       "      <td>one</td>\n",
       "      <td>10963</td>\n",
       "    </tr>\n",
       "  </tbody>\n",
       "</table>\n",
       "</div>"
      ],
      "text/plain": [
       "       word  count\n",
       "2170   like  22699\n",
       "2069   know  21079\n",
       "2237   love  20439\n",
       "1593    get  19670\n",
       "1647    got  16060\n",
       "1631     go  12534\n",
       "2609     oh  11859\n",
       "2543  nigga  11441\n",
       "3291    see  11026\n",
       "2632    one  10963"
      ]
     },
     "execution_count": 16,
     "metadata": {},
     "output_type": "execute_result"
    }
   ],
   "source": [
    "total_count_of_words = all_lyrics.groupby('word')['count'].sum().reset_index()\n",
    "\n",
    "total_count_of_words.sort_values('count', ascending=False, inplace=True)\n",
    "\n",
    "total_count_of_words.head(10)"
   ]
  },
  {
   "cell_type": "code",
   "execution_count": 17,
   "metadata": {
    "scrolled": true
   },
   "outputs": [],
   "source": [
    "track_word_counts = all_lyrics.groupby('track_id')['count'].sum()\n",
    "\n",
    "#track_word_counts.sort_values('count', ascending=False, inplace=True)"
   ]
  },
  {
   "cell_type": "markdown",
   "metadata": {},
   "source": [
    "## Hip Hop: Analyze per track word counts ##"
   ]
  },
  {
   "cell_type": "code",
   "execution_count": 18,
   "metadata": {},
   "outputs": [
    {
     "data": {
      "text/plain": [
       "count    3266.000000\n",
       "mean      178.008879\n",
       "std       110.165940\n",
       "min         1.000000\n",
       "25%        89.000000\n",
       "50%       173.000000\n",
       "75%       248.000000\n",
       "max      2133.000000\n",
       "Name: count, dtype: float64"
      ]
     },
     "execution_count": 18,
     "metadata": {},
     "output_type": "execute_result"
    }
   ],
   "source": [
    "track_word_counts = hiphop_lyrics.groupby('track_id')['count'].sum().reset_index()\n",
    "\n",
    "track_word_counts.sort_values('count', ascending=False, inplace=True)\n",
    "\n",
    "track_word_counts['count'].describe()"
   ]
  },
  {
   "cell_type": "markdown",
   "metadata": {},
   "source": [
    "## Pop: Analyze per track word counts ##"
   ]
  },
  {
   "cell_type": "code",
   "execution_count": 19,
   "metadata": {
    "scrolled": true
   },
   "outputs": [
    {
     "data": {
      "text/plain": [
       "count    10226.000000\n",
       "mean       104.277039\n",
       "std         79.867972\n",
       "min          1.000000\n",
       "25%         52.000000\n",
       "50%         83.000000\n",
       "75%        130.000000\n",
       "max       1350.000000\n",
       "Name: count, dtype: float64"
      ]
     },
     "execution_count": 19,
     "metadata": {},
     "output_type": "execute_result"
    }
   ],
   "source": [
    "track_word_counts = pop_lyrics.groupby('track_id')['count'].sum().reset_index()\n",
    "\n",
    "track_word_counts.sort_values('count', ascending=False, inplace=True)\n",
    "\n",
    "track_word_counts['count'].describe()"
   ]
  },
  {
   "cell_type": "markdown",
   "metadata": {},
   "source": [
    "May want to consider dropping tracks with very few words"
   ]
  },
  {
   "cell_type": "code",
   "execution_count": 20,
   "metadata": {},
   "outputs": [],
   "source": [
    "features.set_index('track_id', inplace=True)"
   ]
  },
  {
   "cell_type": "markdown",
   "metadata": {},
   "source": [
    "## Word Analysis and Reshaping for Modeling ##"
   ]
  },
  {
   "cell_type": "code",
   "execution_count": 21,
   "metadata": {
    "scrolled": false
   },
   "outputs": [
    {
     "name": "stdout",
     "output_type": "stream",
     "text": [
      "Total Unique Words: 4351\n",
      "-------------------\n",
      "             count\n",
      "count  4351.000000\n",
      "mean    199.842105\n",
      "std     414.345192\n",
      "min       1.000000\n",
      "25%      40.000000\n",
      "50%      76.000000\n",
      "75%     175.000000\n",
      "max    5888.000000\n",
      "-------------------\n"
     ]
    }
   ],
   "source": [
    "word_song_appearance, total_word_appearance = get_word_counts(all_lyrics)\n",
    "\n",
    "print('Total Unique Words: {}'.format(word_song_appearance.shape[0]))\n",
    "print('-------------------')\n",
    "print(word_song_appearance.describe())\n",
    "print('-------------------')\n"
   ]
  },
  {
   "cell_type": "markdown",
   "metadata": {},
   "source": [
    "## Feature Selection ##\n",
    "\n",
    "Starting with the top x words found per song in the dataset, we'll add features and record the results from our classification models"
   ]
  },
  {
   "cell_type": "code",
   "execution_count": 33,
   "metadata": {},
   "outputs": [],
   "source": [
    "def plot_ROC_compute_AUC(model, model_name, X,y):\n",
    "    X_val, X_val_test, y_val, y_val_test = train_test_split(X, y, test_size=test_size, random_state=random_state)\n",
    "\n",
    "    model.fit(X_val, y_val)\n",
    "    y_prob = model.predict_proba(X_val_test)[:,1]\n",
    "    auc = roc_auc_score(y_val_test, y_prob)\n",
    "    \n",
    "    return auc\n",
    "    #TODO save these\n",
    "    fpr, tpr, _ = roc_curve(y_val_test, y_prob)\n",
    "    auc = roc_auc_score(y_val_test, y_prob)\n",
    "\n",
    "    plt.plot(fpr, tpr)\n",
    "\n",
    "    x = np.linspace(0,1, 100000)\n",
    "    plt.plot(x, x, linestyle='--')\n",
    "\n",
    "    plt.title('ROC Curve (Pop or Hip Hop)')\n",
    "    plt.xlabel('False Positive Rate')\n",
    "    plt.ylabel('True Positive Rate')\n",
    "    plt.legend(['Logistic Regression'])\n",
    "    return auc"
   ]
  },
  {
   "cell_type": "code",
   "execution_count": 34,
   "metadata": {},
   "outputs": [],
   "source": [
    "def create_test_result_df(rows):\n",
    "    test_results = pd.DataFrame(rows, columns=['num_words','model','accuracy','precision','recall','f1','auc'])\n",
    "    test_results['accuracy'] = test_results['accuracy'].astype(np.float64)\n",
    "    test_results['precision'] = test_results['precision'].astype(np.float64)\n",
    "    test_results['recall'] = test_results['recall'].astype(np.float64)\n",
    "    test_results['f1'] = test_results['f1'].astype(np.float64)\n",
    "    test_results['auc'] = test_results['auc'].astype(np.float64)\n",
    "    return test_results"
   ]
  },
  {
   "cell_type": "code",
   "execution_count": null,
   "metadata": {
    "scrolled": true
   },
   "outputs": [],
   "source": [
    "#word_subset = word_song_appearance[word_song_appearance['count'] >= 500]\n",
    "cv_df_count = 0\n",
    "\n",
    "log_model = LogisticRegression()\n",
    "lr_2x = LogisticRegression(penalty='l1', class_weight={1 : 2, 0 : 1})\n",
    "lr_3x = LogisticRegression(class_weight={1 : 3, 0 : 1})\n",
    "lr_4x = LogisticRegression(class_weight={1 : 4, 0 : 1})\n",
    "\n",
    "word_chunk_size = 10\n",
    "word_upper_bound = 3010\n",
    "# let's stop at 3000 words\n",
    "test_results = create_test_result_df(None)\n",
    "\n",
    "for word_sample_size in range(10, word_upper_bound, word_chunk_size):\n",
    "    test_df_index = 0\n",
    "    word_subset = word_song_appearance.iloc[:word_sample_size]\n",
    "\n",
    "    remaining_lyrics = pd.merge(all_lyrics.reset_index(), word_subset[['word']], how='right', on='word')\n",
    "\n",
    "    remaining_lyrics.set_index('track_id', inplace=True)\n",
    "    del remaining_lyrics['is_test']\n",
    "    tid_lyrics = remaining_lyrics.pivot(columns='word', values='count')\n",
    "\n",
    "    music_features = ['duration','music_key','loudness', 'mode', 'music_tempo', 'time_signature']\n",
    "    term_only = features[['term']].reset_index().set_index('track_id')\n",
    "\n",
    "    # complete set,= tid_index -> genre -> word_a -> .... -> word_z\n",
    "    complete_set = pd.merge(term_only, tid_lyrics, left_index=True, right_index=True, how='right')\n",
    "    complete_set.fillna(0, inplace=True)\n",
    "\n",
    "\n",
    "    test_size = 0.2\n",
    "    random_state = 10\n",
    "    y_text = np.asarray(complete_set.iloc[:,0])\n",
    "    y = np.array([1 if val=='hip hop' else 0 for val in y_text])\n",
    "    X = np.asarray(complete_set.iloc[:,1:])\n",
    "\n",
    "    X_val, X_test, y_val, y_test = train_test_split(X, y, test_size=test_size, random_state=random_state)\n",
    "    #models = [log_model, lr_2x, lr_3x, lr_4x]\n",
    "    models = [lr_2x, GaussianNB(), DecisionTreeClassifier(class_weight={1 : 2, 0 : 1}), RandomForestClassifier(n_estimators=100, class_weight={1 : 2, 0 : 1})]\n",
    "    model_names = ['log_2:1_l1', 'GaussianNB', 'DecisionTree', 'RandomForest']\n",
    "    cv_rows = []\n",
    "    for idx, model in enumerate(models):\n",
    "        accuracy = np.mean(cross_val_score(model, X_val, y_val, cv=5, n_jobs=-1, scoring='accuracy'))\n",
    "        precision = np.mean(cross_val_score(model, X_val, y_val, cv=5, n_jobs=-1, scoring='precision'))\n",
    "        recall = np.mean(cross_val_score(model, X_val, y_val, cv=5, n_jobs=-1, scoring='recall'))\n",
    "        f1 = np.mean(cross_val_score(model, X_val, y_val, cv=5, n_jobs=-1, scoring='f1'))\n",
    "        model_name = model_names[idx]\n",
    "        auc = plot_ROC_compute_AUC(model, model_name, X_val, y_val)\n",
    "        \n",
    "        cv_row = [word_sample_size, model_name, accuracy, precision, recall, f1, auc]\n",
    "        cv_rows.append(cv_row)\n",
    "    \n",
    "    new_df = create_test_result_df(cv_rows)\n",
    "    \n",
    "    test_results = test_results.append(new_df, ignore_index=True)\n",
    "    test_results.to_csv('cv_files/feature_other_cv_results.csv')\n",
    "        \n",
    "    "
   ]
  },
  {
   "cell_type": "code",
   "execution_count": null,
   "metadata": {},
   "outputs": [],
   "source": []
  }
 ],
 "metadata": {
  "gist_id": "6817504c0647c2400e2ae907f99cc451",
  "kernelspec": {
   "display_name": "Python 3",
   "language": "python",
   "name": "python3"
  },
  "language_info": {
   "codemirror_mode": {
    "name": "ipython",
    "version": 3
   },
   "file_extension": ".py",
   "mimetype": "text/x-python",
   "name": "python",
   "nbconvert_exporter": "python",
   "pygments_lexer": "ipython3",
   "version": "3.6.4"
  }
 },
 "nbformat": 4,
 "nbformat_minor": 2
}
